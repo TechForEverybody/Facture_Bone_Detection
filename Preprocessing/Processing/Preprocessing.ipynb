{
 "cells": [
  {
   "cell_type": "markdown",
   "id": "4a752ebc",
   "metadata": {},
   "source": [
    "<h1 style=\"text-align: center;font-size: 36px;color:darkblue;\">Preprocessing</h1>"
   ]
  },
  {
   "cell_type": "markdown",
   "id": "74181a1d",
   "metadata": {
    "ExecuteTime": {
     "end_time": "2023-01-25T19:57:54.764294Z",
     "start_time": "2023-01-25T19:57:54.755294Z"
    }
   },
   "source": [
    "# Imports"
   ]
  },
  {
   "cell_type": "code",
   "execution_count": 3,
   "id": "d9618349",
   "metadata": {
    "ExecuteTime": {
     "end_time": "2023-03-15T00:17:38.285594Z",
     "start_time": "2023-03-15T00:17:33.112645Z"
    }
   },
   "outputs": [],
   "source": [
    "import pandas\n",
    "import numpy\n",
    "import seaborn\n",
    "import matplotlib.pyplot as pyplot\n",
    "import cv2\n",
    "import os\n",
    "import warnings\n",
    "import random\n",
    "import pickle\n",
    "import skimage"
   ]
  },
  {
   "cell_type": "markdown",
   "id": "3f045b83",
   "metadata": {},
   "source": [
    "# Configurations"
   ]
  },
  {
   "cell_type": "code",
   "execution_count": 4,
   "id": "895c1adf",
   "metadata": {
    "ExecuteTime": {
     "end_time": "2023-03-15T00:17:40.977703Z",
     "start_time": "2023-03-15T00:17:40.907059Z"
    }
   },
   "outputs": [],
   "source": [
    "# %matplotlib qt;\n",
    "%matplotlib inline\n",
    "pyplot.rcParams[\"figure.figsize\"] = (5, 3)"
   ]
  },
  {
   "cell_type": "code",
   "execution_count": 5,
   "id": "86ac398e",
   "metadata": {
    "ExecuteTime": {
     "end_time": "2023-03-15T00:17:41.724247Z",
     "start_time": "2023-03-15T00:17:41.703686Z"
    }
   },
   "outputs": [],
   "source": [
    "# warnings.filterwarnings('ignore')"
   ]
  },
  {
   "cell_type": "code",
   "execution_count": 6,
   "id": "df339861",
   "metadata": {
    "ExecuteTime": {
     "end_time": "2023-03-15T00:17:42.662999Z",
     "start_time": "2023-03-15T00:17:42.646326Z"
    }
   },
   "outputs": [],
   "source": [
    "Training_Data_Path=\"../../Data/Main_Data/train/\"\n",
    "Testing_Data_Path=\"../../Data/Main_Data/valid/\"\n",
    "class_list=os.listdir(Training_Data_Path)"
   ]
  },
  {
   "cell_type": "code",
   "execution_count": 8,
   "id": "cb8bce13",
   "metadata": {
    "ExecuteTime": {
     "end_time": "2023-03-15T00:17:53.517769Z",
     "start_time": "2023-03-15T00:17:53.510671Z"
    }
   },
   "outputs": [],
   "source": [
    "Saving_Path=\"../../Data/Preprocessed_Data/\""
   ]
  },
  {
   "cell_type": "code",
   "execution_count": 9,
   "id": "df279896",
   "metadata": {
    "ExecuteTime": {
     "end_time": "2023-03-15T00:17:54.129943Z",
     "start_time": "2023-03-15T00:17:54.109584Z"
    }
   },
   "outputs": [],
   "source": [
    "class_list=os.listdir(Training_Data_Path)"
   ]
  },
  {
   "cell_type": "code",
   "execution_count": 10,
   "id": "1af8f61c",
   "metadata": {
    "ExecuteTime": {
     "end_time": "2023-03-15T00:17:55.059089Z",
     "start_time": "2023-03-15T00:17:55.035909Z"
    }
   },
   "outputs": [],
   "source": [
    "resize_dimension=(224,224)"
   ]
  },
  {
   "cell_type": "markdown",
   "id": "1d5065ae",
   "metadata": {},
   "source": [
    "## Methods"
   ]
  },
  {
   "cell_type": "code",
   "execution_count": 27,
   "id": "4c04dd99",
   "metadata": {
    "ExecuteTime": {
     "end_time": "2023-03-15T00:28:37.409505Z",
     "start_time": "2023-03-15T00:28:37.385715Z"
    }
   },
   "outputs": [],
   "source": [
    "def getNormalImagesData(folder_path,size=False,list_of_classes=[i for i in class_list]):\n",
    "    Data=[]\n",
    "    for class_name in list_of_classes:\n",
    "        print(class_name)\n",
    "        class_path1=os.path.join(folder_path,class_name)\n",
    "        counter=0\n",
    "        for sub_class in os .listdir(class_path1):\n",
    "            class_path=os.path.join(class_path1,sub_class)\n",
    "            print(class_path)\n",
    "            for image_name in os.listdir(class_path):\n",
    "                counter+=1\n",
    "                print(counter,end=\",\")\n",
    "                try:\n",
    "                    image_array=cv2.imread(os.path.join(class_path,image_name),cv2.IMREAD_GRAYSCALE)\n",
    "                    image_array=cv2.resize(image_array,resize_dimension)\n",
    "                    Data.append([image_array,list_of_classes.index(class_name)])\n",
    "                except:\n",
    "                    pass\n",
    "                if size!=False and counter>=size:\n",
    "                    break\n",
    "        print()\n",
    "        print(\"Total\",counter,\"Images is Readed\")\n",
    "    return Data"
   ]
  },
  {
   "cell_type": "code",
   "execution_count": null,
   "id": "f04d6958",
   "metadata": {},
   "outputs": [],
   "source": [
    "def getNormalImagesData(folder_path,size=False,list_of_classes=[i for i in class_list]):\n",
    "    Data=[]\n",
    "    for class_name in list_of_classes:\n",
    "        print(class_name)\n",
    "        class_path=os.path.join(folder_path,class_name)\n",
    "        counter=0\n",
    "        for image_name in os.listdir(class_path):\n",
    "            counter+=1\n",
    "            print(counter,end=\",\")\n",
    "            try:\n",
    "                image_array=cv2.imread(os.path.join(class_path,image_name),cv2.IMREAD_GRAYSCALE)\n",
    "                image_array=cv2.resize(image_array,resize_dimension)\n",
    "                Data.append([image_array,list_of_classes.index(class_name)])\n",
    "            except:\n",
    "                pass\n",
    "            if size!=False and counter>=size:\n",
    "                break\n",
    "        print()\n",
    "        print(\"Total\",counter,\"Images is Readed\")\n",
    "    return Data"
   ]
  },
  {
   "cell_type": "code",
   "execution_count": null,
   "id": "fd44e580",
   "metadata": {},
   "outputs": [],
   "source": []
  },
  {
   "cell_type": "code",
   "execution_count": 14,
   "id": "d14b9833",
   "metadata": {
    "ExecuteTime": {
     "end_time": "2023-03-15T00:18:24.252801Z",
     "start_time": "2023-03-15T00:18:24.238101Z"
    }
   },
   "outputs": [],
   "source": [
    "def saveData(Saving_Path,class_):\n",
    "    pickle_training_features=open(Saving_Path+\"/\"+class_+\"/pickle_training_features_1.pickle\",\"wb\")\n",
    "    pickle.dump(Training_Features,pickle_training_features)\n",
    "    pickle_training_features.close()\n",
    "    pickle_training_labels=open(Saving_Path+\"/\"+class_+\"/pickle_training_labels_1.pickle\",\"wb\")\n",
    "    pickle.dump(Training_Label,pickle_training_labels)\n",
    "    pickle_training_labels.close()\n",
    "    pickle_testing_features=open(Saving_Path+\"/\"+class_+\"/pickle_testing_features_1.pickle\",\"wb\")\n",
    "    pickle.dump(Testing_Features,pickle_testing_features)\n",
    "    pickle_testing_features.close()\n",
    "    pickle_testing_labels=open(Saving_Path+\"/\"+class_+\"/pickle_testing_labels_1.pickle\",\"wb\")\n",
    "    pickle.dump(Testing_Label,pickle_testing_labels)\n",
    "    pickle_testing_labels.close()"
   ]
  },
  {
   "cell_type": "code",
   "execution_count": 28,
   "id": "a6579343",
   "metadata": {
    "ExecuteTime": {
     "end_time": "2023-03-15T00:28:53.141165Z",
     "start_time": "2023-03-15T00:28:44.590782Z"
    }
   },
   "outputs": [
    {
     "name": "stdout",
     "output_type": "stream",
     "text": [
      "XR_ELBOW\n",
      "../../Data/Main_Data/train/XR_ELBOW\\negative\n",
      "1,2,3,4,5,6,7,8,9,10,11,12,13,14,15,16,17,18,19,20,21,22,23,24,25,26,27,28,29,30,31,32,33,34,35,36,37,38,39,40,41,42,43,44,45,46,47,48,49,50,51,52,53,54,55,56,57,58,59,60,61,62,63,64,65,66,67,68,69,70,71,72,73,74,75,76,77,78,79,80,81,82,83,84,85,86,87,88,89,90,91,92,93,94,95,96,97,98,99,100,101,102,../../Data/Main_Data/train/XR_ELBOW\\positive\n",
      "103,104,105,106,107,108,109,110,111,112,113,114,115,116,117,118,119,120,121,122,123,124,125,126,127,128,129,130,131,132,133,134,135,136,137,138,139,140,141,142,143,144,145,146,147,148,149,150,151,152,153,154,155,156,157,158,159,160,161,162,163,164,165,166,167,168,169,170,171,172,173,174,175,176,177,178,179,180,181,182,183,184,185,186,187,188,189,190,191,192,193,194,195,196,197,198,199,200,201,202,\n",
      "Total 202 Images is Readed\n",
      "XR_FINGER\n",
      "../../Data/Main_Data/train/XR_FINGER\\negative\n",
      "1,2,3,4,5,6,7,8,9,10,11,12,13,14,15,16,17,18,19,20,21,22,23,24,25,26,27,28,29,30,31,32,33,34,35,36,37,38,39,40,41,42,43,44,45,46,47,48,49,50,51,52,53,54,55,56,57,58,59,60,61,62,63,64,65,66,67,68,69,70,71,72,73,74,75,76,77,78,79,80,81,82,83,84,85,86,87,88,89,90,91,92,93,94,95,96,97,98,99,100,../../Data/Main_Data/train/XR_FINGER\\positive\n",
      "101,102,103,104,105,106,107,108,109,110,111,112,113,114,115,116,117,118,119,120,121,122,123,124,125,126,127,128,129,130,131,132,133,134,135,136,137,138,139,140,141,142,143,144,145,146,147,148,149,150,151,152,153,154,155,156,157,158,159,160,161,162,163,164,165,166,167,168,169,170,171,172,173,174,175,176,177,178,179,180,181,182,183,184,185,186,187,188,189,190,191,192,193,194,195,196,197,198,199,200,201,\n",
      "Total 201 Images is Readed\n",
      "XR_FOREARM\n",
      "../../Data/Main_Data/train/XR_FOREARM\\negative\n",
      "1,2,3,4,5,6,7,8,9,10,11,12,13,14,15,16,17,18,19,20,21,22,23,24,25,26,27,28,29,30,31,32,33,34,35,36,37,38,39,40,41,42,43,44,45,46,47,48,49,50,51,52,53,54,55,56,57,58,59,60,61,62,63,64,65,66,67,68,69,70,71,72,73,74,75,76,77,78,79,80,81,82,83,84,85,86,87,88,89,90,91,92,93,94,95,96,97,98,99,100,101,../../Data/Main_Data/train/XR_FOREARM\\positive\n",
      "102,103,104,105,106,107,108,109,110,111,112,113,114,115,116,117,118,119,120,121,122,123,124,125,126,127,128,129,130,131,132,133,134,135,136,137,138,139,140,141,142,143,144,145,146,147,148,149,150,151,152,153,154,155,156,157,158,159,160,161,162,163,164,165,166,167,168,169,170,171,172,173,174,175,176,177,178,179,180,181,182,183,184,185,186,187,188,189,190,191,192,193,194,195,196,197,198,199,200,201,202,203,\n",
      "Total 203 Images is Readed\n",
      "XR_HAND\n",
      "../../Data/Main_Data/train/XR_HAND\\negative\n",
      "1,2,3,4,5,6,7,8,9,10,11,12,13,14,15,16,17,18,19,20,21,22,23,24,25,26,27,28,29,30,31,32,33,34,35,36,37,38,39,40,41,42,43,44,45,46,47,48,49,50,51,52,53,54,55,56,57,58,59,60,61,62,63,64,65,66,67,68,69,70,71,72,73,74,75,76,77,78,79,80,81,82,83,84,85,86,87,88,89,90,91,92,93,94,95,96,97,98,99,100,101,102,../../Data/Main_Data/train/XR_HAND\\positive\n",
      "103,104,105,106,107,108,109,110,111,112,113,114,115,116,117,118,119,120,121,122,123,124,125,126,127,128,129,130,131,132,133,134,135,136,137,138,139,140,141,142,143,144,145,146,147,148,149,150,151,152,153,154,155,156,157,158,159,160,161,162,163,164,165,166,167,168,169,170,171,172,173,174,175,176,177,178,179,180,181,182,183,184,185,186,187,188,189,190,191,192,193,194,195,196,197,198,199,\n",
      "Total 199 Images is Readed\n",
      "XR_HUMERUS\n",
      "../../Data/Main_Data/train/XR_HUMERUS\\negative\n",
      "1,2,3,4,5,6,7,8,9,10,11,12,13,14,15,16,17,18,19,20,21,22,23,24,25,26,27,28,29,30,31,32,33,34,35,36,37,38,39,40,41,42,43,44,45,46,47,48,49,50,51,52,53,54,55,56,57,58,59,60,61,62,63,64,65,66,67,68,69,70,71,72,73,74,75,76,77,78,79,80,81,82,83,84,85,86,87,88,89,90,91,92,93,94,95,96,97,98,99,../../Data/Main_Data/train/XR_HUMERUS\\positive\n",
      "100,101,102,103,104,105,106,107,108,109,110,111,112,113,114,115,116,117,118,119,120,121,122,123,124,125,126,127,128,129,130,131,132,133,134,135,136,137,138,139,140,141,142,143,144,145,146,147,148,149,150,151,152,153,154,155,156,157,158,159,160,161,162,163,164,165,166,167,168,169,170,171,172,173,174,175,176,177,178,179,180,181,182,183,184,185,186,187,188,189,190,191,192,193,194,195,196,197,198,199,\n",
      "Total 199 Images is Readed\n",
      "XR_SHOULDER\n",
      "../../Data/Main_Data/train/XR_SHOULDER\\negative\n",
      "1,2,3,4,5,6,7,8,9,10,11,12,13,14,15,16,17,18,19,20,21,22,23,24,25,26,27,28,29,30,31,32,33,34,35,36,37,38,39,40,41,42,43,44,45,46,47,48,49,50,51,52,53,54,55,56,57,58,59,60,61,62,63,64,65,66,67,68,69,70,71,72,73,74,75,76,77,78,79,80,81,82,83,84,85,86,87,88,89,90,91,92,93,94,95,96,97,98,99,100,101,../../Data/Main_Data/train/XR_SHOULDER\\positive\n",
      "102,103,104,105,106,107,108,109,110,111,112,113,114,115,116,117,118,119,120,121,122,123,124,125,126,127,128,129,130,131,132,133,134,135,136,137,138,139,140,141,142,143,144,145,146,147,148,149,150,151,152,153,154,155,156,157,158,159,160,161,162,163,164,165,166,167,168,169,170,171,172,173,174,175,176,177,178,179,180,181,182,183,184,185,186,187,188,189,190,191,192,193,194,195,196,197,\n",
      "Total 197 Images is Readed\n",
      "XR_WRIST\n",
      "../../Data/Main_Data/train/XR_WRIST\\negative\n",
      "1,2,3,4,5,6,7,8,9,10,11,12,13,14,15,16,17,18,19,20,21,22,23,24,25,26,27,28,29,30,31,32,33,34,35,36,37,38,39,40,41,42,43,44,45,46,47,48,49,50,51,52,53,54,55,56,57,58,59,60,61,62,63,64,65,66,67,68,69,70,71,72,73,74,75,76,77,78,79,80,81,82,83,84,85,86,87,88,89,90,91,92,93,94,95,96,97,98,99,../../Data/Main_Data/train/XR_WRIST\\positive\n",
      "100,101,102,103,104,105,106,107,108,109,110,111,112,113,114,115,116,117,118,119,120,121,122,123,124,125,126,127,128,129,130,131,132,133,134,135,136,137,138,139,140,141,142,143,144,145,146,147,148,149,150,151,152,153,154,155,156,157,158,159,160,161,162,163,164,165,166,167,168,169,170,171,172,173,174,175,176,177,178,179,180,181,182,183,184,185,186,187,188,189,190,191,192,193,194,195,196,197,198,199,200,201,\n",
      "Total 201 Images is Readed\n"
     ]
    }
   ],
   "source": [
    "Training_Data=getNormalImagesData(Training_Data_Path)"
   ]
  },
  {
   "cell_type": "code",
   "execution_count": 29,
   "id": "c436da66",
   "metadata": {
    "ExecuteTime": {
     "end_time": "2023-03-15T00:28:53.165137Z",
     "start_time": "2023-03-15T00:28:53.147429Z"
    }
   },
   "outputs": [
    {
     "data": {
      "text/plain": [
       "1400"
      ]
     },
     "execution_count": 29,
     "metadata": {},
     "output_type": "execute_result"
    }
   ],
   "source": [
    "len(Training_Data)"
   ]
  },
  {
   "cell_type": "code",
   "execution_count": 30,
   "id": "7a6dda19",
   "metadata": {
    "ExecuteTime": {
     "end_time": "2023-03-15T00:28:53.189689Z",
     "start_time": "2023-03-15T00:28:53.171276Z"
    }
   },
   "outputs": [],
   "source": [
    "random.shuffle(Training_Data)"
   ]
  },
  {
   "cell_type": "code",
   "execution_count": 33,
   "id": "1abd2898",
   "metadata": {
    "ExecuteTime": {
     "end_time": "2023-03-15T00:28:59.678086Z",
     "start_time": "2023-03-15T00:28:59.620821Z"
    }
   },
   "outputs": [],
   "source": [
    "Training_Features=[]\n",
    "Training_Label=[]\n",
    "for image_array_value,label in Training_Data:\n",
    "    Training_Features.append(image_array_value)\n",
    "    Training_Label.append(label)\n",
    "Training_Features=numpy.array(Training_Features)\n",
    "Training_Label=numpy.array(Training_Label)"
   ]
  },
  {
   "cell_type": "code",
   "execution_count": 34,
   "id": "5952b223",
   "metadata": {
    "ExecuteTime": {
     "end_time": "2023-03-15T00:29:00.634006Z",
     "start_time": "2023-03-15T00:29:00.613986Z"
    }
   },
   "outputs": [
    {
     "data": {
      "text/plain": [
       "(1400, 224, 224)"
      ]
     },
     "execution_count": 34,
     "metadata": {},
     "output_type": "execute_result"
    }
   ],
   "source": [
    "Training_Features.shape"
   ]
  },
  {
   "cell_type": "code",
   "execution_count": 35,
   "id": "3aea6e11",
   "metadata": {
    "ExecuteTime": {
     "end_time": "2023-03-15T00:29:07.187848Z",
     "start_time": "2023-03-15T00:29:02.528939Z"
    }
   },
   "outputs": [
    {
     "name": "stdout",
     "output_type": "stream",
     "text": [
      "XR_ELBOW\n",
      "../../Data/Main_Data/valid/XR_ELBOW\\negative\n",
      "1,2,3,4,5,6,7,8,9,10,11,12,13,14,15,16,17,18,19,20,21,22,23,24,25,26,27,28,29,30,31,32,33,34,35,36,37,38,39,40,41,42,43,44,45,46,47,48,49,50,../../Data/Main_Data/valid/XR_ELBOW\\positive\n",
      "51,52,53,54,55,56,57,58,59,60,61,62,63,64,65,66,67,68,69,70,71,72,73,74,75,76,77,78,79,80,81,82,83,84,85,86,87,88,89,90,91,92,93,94,95,96,97,98,99,100,\n",
      "Total 100 Images is Readed\n",
      "XR_FINGER\n",
      "../../Data/Main_Data/valid/XR_FINGER\\negative\n",
      "1,2,3,4,5,6,7,8,9,10,11,12,13,14,15,16,17,18,19,20,21,22,23,24,25,26,27,28,29,30,31,32,33,34,35,36,37,38,39,40,41,42,43,44,45,46,47,48,49,50,../../Data/Main_Data/valid/XR_FINGER\\positive\n",
      "51,52,53,54,55,56,57,58,59,60,61,62,63,64,65,66,67,68,69,70,71,72,73,74,75,76,77,78,79,80,81,82,83,84,85,86,87,88,89,90,91,92,93,94,95,96,97,98,99,100,101,102,103,\n",
      "Total 103 Images is Readed\n",
      "XR_FOREARM\n",
      "../../Data/Main_Data/valid/XR_FOREARM\\negative\n",
      "1,2,3,4,5,6,7,8,9,10,11,12,13,14,15,16,17,18,19,20,21,22,23,24,25,26,27,28,29,30,31,32,33,34,35,36,37,38,39,40,41,42,43,44,45,46,47,48,49,50,51,52,../../Data/Main_Data/valid/XR_FOREARM\\positive\n",
      "53,54,55,56,57,58,59,60,61,62,63,64,65,66,67,68,69,70,71,72,73,74,75,76,77,78,79,80,81,82,83,84,85,86,87,88,89,90,91,92,93,94,95,96,97,98,99,100,101,102,\n",
      "Total 102 Images is Readed\n",
      "XR_HAND\n",
      "../../Data/Main_Data/valid/XR_HAND\\negative\n",
      "1,2,3,4,5,6,7,8,9,10,11,12,13,14,15,16,17,18,19,20,21,22,23,24,25,26,27,28,29,30,31,32,33,34,35,36,37,38,39,40,41,42,43,44,45,46,47,48,49,50,../../Data/Main_Data/valid/XR_HAND\\positive\n",
      "51,52,53,54,55,56,57,58,59,60,61,62,63,64,65,66,67,68,69,70,71,72,73,74,75,76,77,78,79,80,81,82,83,84,85,86,87,88,89,90,91,92,93,94,95,96,97,98,99,100,101,\n",
      "Total 101 Images is Readed\n",
      "XR_HUMERUS\n",
      "../../Data/Main_Data/valid/XR_HUMERUS\\negative\n",
      "1,2,3,4,5,6,7,8,9,10,11,12,13,14,15,16,17,18,19,20,21,22,23,24,25,26,27,28,29,30,31,32,33,34,35,36,37,38,39,40,41,42,43,44,45,46,47,48,49,../../Data/Main_Data/valid/XR_HUMERUS\\positive\n",
      "50,51,52,53,54,55,56,57,58,59,60,61,62,63,64,65,66,67,68,69,70,71,72,73,74,75,76,77,78,79,80,81,82,83,84,85,86,87,88,89,90,91,92,93,94,95,96,97,98,99,100,\n",
      "Total 100 Images is Readed\n",
      "XR_SHOULDER\n",
      "../../Data/Main_Data/valid/XR_SHOULDER\\negative\n",
      "1,2,3,4,5,6,7,8,9,10,11,12,13,14,15,16,17,18,19,20,21,22,23,24,25,26,27,28,29,30,31,32,33,34,35,36,37,38,39,40,41,42,43,44,45,46,47,48,49,50,../../Data/Main_Data/valid/XR_SHOULDER\\positive\n",
      "51,52,53,54,55,56,57,58,59,60,61,62,63,64,65,66,67,68,69,70,71,72,73,74,75,76,77,78,79,80,81,82,83,84,85,86,87,88,89,90,91,92,93,94,95,96,97,98,99,100,101,102,103,\n",
      "Total 103 Images is Readed\n",
      "XR_WRIST\n",
      "../../Data/Main_Data/valid/XR_WRIST\\negative\n",
      "1,2,3,4,5,6,7,8,9,10,11,12,13,14,15,16,17,18,19,20,21,22,23,24,25,26,27,28,29,30,31,32,33,34,35,36,37,38,39,40,41,42,43,44,45,46,47,48,49,50,51,52,../../Data/Main_Data/valid/XR_WRIST\\positive\n",
      "53,54,55,56,57,58,59,60,61,62,63,64,65,66,67,68,69,70,71,72,73,74,75,76,77,78,79,80,81,82,83,84,85,86,87,88,89,90,91,92,93,94,95,96,97,98,99,100,101,102,\n",
      "Total 102 Images is Readed\n"
     ]
    }
   ],
   "source": [
    "Testing_Data=getNormalImagesData(Testing_Data_Path)\n",
    "Testing_Features=[]\n",
    "Testing_Label=[]\n",
    "for image_array_value,label in Testing_Data:\n",
    "    Testing_Features.append(image_array_value)\n",
    "    Testing_Label.append(label)\n",
    "Testing_Features=numpy.array(Testing_Features)\n",
    "Testing_Label=numpy.array(Testing_Label)"
   ]
  },
  {
   "cell_type": "code",
   "execution_count": null,
   "id": "cf7cd925",
   "metadata": {},
   "outputs": [],
   "source": []
  },
  {
   "cell_type": "code",
   "execution_count": 36,
   "id": "af6407a7",
   "metadata": {
    "ExecuteTime": {
     "end_time": "2023-03-15T00:29:07.218457Z",
     "start_time": "2023-03-15T00:29:07.194602Z"
    }
   },
   "outputs": [
    {
     "data": {
      "text/plain": [
       "(709, 224, 224)"
      ]
     },
     "execution_count": 36,
     "metadata": {},
     "output_type": "execute_result"
    }
   ],
   "source": [
    "Testing_Features.shape"
   ]
  },
  {
   "cell_type": "markdown",
   "id": "38caa282",
   "metadata": {},
   "source": [
    "### Data Saving"
   ]
  },
  {
   "cell_type": "code",
   "execution_count": 40,
   "id": "92ad85df",
   "metadata": {
    "ExecuteTime": {
     "end_time": "2023-03-15T00:30:20.870609Z",
     "start_time": "2023-03-15T00:30:19.888951Z"
    }
   },
   "outputs": [],
   "source": [
    "saveData(Saving_Path,class_=\"\")"
   ]
  },
  {
   "cell_type": "code",
   "execution_count": null,
   "id": "00847f24",
   "metadata": {},
   "outputs": [],
   "source": []
  }
 ],
 "metadata": {
  "hide_input": false,
  "kernelspec": {
   "display_name": "Python 3 (ipykernel)",
   "language": "python",
   "name": "python3"
  },
  "language_info": {
   "codemirror_mode": {
    "name": "ipython",
    "version": 3
   },
   "file_extension": ".py",
   "mimetype": "text/x-python",
   "name": "python",
   "nbconvert_exporter": "python",
   "pygments_lexer": "ipython3",
   "version": "3.10.8"
  }
 },
 "nbformat": 4,
 "nbformat_minor": 5
}
